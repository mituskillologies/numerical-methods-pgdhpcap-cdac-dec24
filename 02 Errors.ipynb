{
 "cells": [
  {
   "cell_type": "markdown",
   "id": "15b17e76-9efd-4bf6-b3c8-6da75cf4fe11",
   "metadata": {},
   "source": [
    "##### Absolute Error"
   ]
  },
  {
   "cell_type": "code",
   "execution_count": 1,
   "id": "da90f480-2432-422b-8ed9-7a0348c733a3",
   "metadata": {},
   "outputs": [],
   "source": [
    "import numpy as np"
   ]
  },
  {
   "cell_type": "code",
   "execution_count": 2,
   "id": "b9c368f3-9ca6-41ae-b367-c7ea10abdc63",
   "metadata": {},
   "outputs": [],
   "source": [
    "# declare the array\n",
    "num = np.array([29,32,55,19,26,11,22,25,39,24,23,20,35])"
   ]
  },
  {
   "cell_type": "code",
   "execution_count": 9,
   "id": "c006a94c-9400-471c-a634-725fe8bbe337",
   "metadata": {},
   "outputs": [],
   "source": [
    "# calculate the distances\n",
    "diff = abs(num - num.mean())"
   ]
  },
  {
   "cell_type": "code",
   "execution_count": 10,
   "id": "3d0bda18-b580-48f2-9549-cd5b387a39e6",
   "metadata": {},
   "outputs": [
    {
     "data": {
      "text/plain": [
       "7.928994082840237"
      ]
     },
     "execution_count": 10,
     "metadata": {},
     "output_type": "execute_result"
    }
   ],
   "source": [
    "diff.mean()"
   ]
  },
  {
   "cell_type": "markdown",
   "id": "c1f8ed6a-0504-478b-be97-fc95b08361f2",
   "metadata": {},
   "source": [
    "##### Relative Error"
   ]
  },
  {
   "cell_type": "code",
   "execution_count": 12,
   "id": "4fcd2eca-f759-4a2d-92be-14499e98922a",
   "metadata": {},
   "outputs": [
    {
     "data": {
      "text/plain": [
       "array([6.06334842, 1.84065934, 0.29035753, 0.91218516, 4.68531469,\n",
       "       0.47500886, 1.39293139, 2.94505495, 0.70120356, 2.1474359 ,\n",
       "       1.68978562, 1.03076923, 1.08502024])"
      ]
     },
     "execution_count": 12,
     "metadata": {},
     "output_type": "execute_result"
    }
   ],
   "source": [
    "abs(num - num.mean()) / "
   ]
  },
  {
   "cell_type": "markdown",
   "id": "49608233-6f23-4f3c-a2b6-716a93f4ca9b",
   "metadata": {},
   "source": [
    "##### Truncation Error"
   ]
  },
  {
   "cell_type": "code",
   "execution_count": 15,
   "id": "0220b9d4-b04c-4e8c-9bf2-c3e8697a8601",
   "metadata": {},
   "outputs": [],
   "source": [
    "x = 10.45877293"
   ]
  },
  {
   "cell_type": "code",
   "execution_count": 16,
   "id": "6c3846cb-6b95-4bf6-aab2-35200cd3c46f",
   "metadata": {},
   "outputs": [
    {
     "name": "stdout",
     "output_type": "stream",
     "text": [
      "10.46\n"
     ]
    }
   ],
   "source": [
    "print('%.2f' %x)"
   ]
  },
  {
   "cell_type": "code",
   "execution_count": 20,
   "id": "45b2d85b-3148-4d5b-b54e-10de8c24e31c",
   "metadata": {},
   "outputs": [],
   "source": [
    "y = float('%.2f' %x)"
   ]
  },
  {
   "cell_type": "code",
   "execution_count": 21,
   "id": "0ab391cc-099d-44be-878b-1d4e8c977a32",
   "metadata": {},
   "outputs": [
    {
     "data": {
      "text/plain": [
       "-0.0012270700000005519"
      ]
     },
     "execution_count": 21,
     "metadata": {},
     "output_type": "execute_result"
    }
   ],
   "source": [
    "x - y"
   ]
  },
  {
   "cell_type": "code",
   "execution_count": 22,
   "id": "bb9da7ca-5601-4ccf-9568-e68161b92338",
   "metadata": {},
   "outputs": [],
   "source": [
    "x = 23.564"
   ]
  },
  {
   "cell_type": "code",
   "execution_count": 23,
   "id": "340ef3cc-a58a-44b8-8ba2-662a19274bd1",
   "metadata": {},
   "outputs": [],
   "source": [
    "y = int(x)"
   ]
  },
  {
   "cell_type": "code",
   "execution_count": 24,
   "id": "6c69f120-5a4e-4892-a85d-7056f0e7b5ea",
   "metadata": {},
   "outputs": [
    {
     "data": {
      "text/plain": [
       "0.5640000000000001"
      ]
     },
     "execution_count": 24,
     "metadata": {},
     "output_type": "execute_result"
    }
   ],
   "source": [
    "x - y"
   ]
  },
  {
   "cell_type": "code",
   "execution_count": 25,
   "id": "40301d22-62e6-45d3-a29d-091f2356b8a6",
   "metadata": {},
   "outputs": [
    {
     "data": {
      "text/plain": [
       "0.6666666666666666"
      ]
     },
     "execution_count": 25,
     "metadata": {},
     "output_type": "execute_result"
    }
   ],
   "source": [
    "2/3"
   ]
  },
  {
   "cell_type": "code",
   "execution_count": 26,
   "id": "293de42c-eae0-42c5-b046-940c952c0cf9",
   "metadata": {},
   "outputs": [
    {
     "data": {
      "text/plain": [
       "3.141592653589793"
      ]
     },
     "execution_count": 26,
     "metadata": {},
     "output_type": "execute_result"
    }
   ],
   "source": [
    "np.pi"
   ]
  },
  {
   "cell_type": "code",
   "execution_count": 27,
   "id": "7469f76a-1c14-4a99-8ed2-6c00f5f3d6ae",
   "metadata": {},
   "outputs": [
    {
     "data": {
      "text/plain": [
       "2.718281828459045"
      ]
     },
     "execution_count": 27,
     "metadata": {},
     "output_type": "execute_result"
    }
   ],
   "source": [
    "np.e"
   ]
  },
  {
   "cell_type": "code",
   "execution_count": 28,
   "id": "d16acbdc-2ea6-4f23-8c27-2d98a6dbdb12",
   "metadata": {},
   "outputs": [],
   "source": [
    "x = 52735868562895615861585658965623865235865283623856"
   ]
  },
  {
   "cell_type": "code",
   "execution_count": 29,
   "id": "f5300b92-9f96-4477-b3f9-820fc4c48892",
   "metadata": {},
   "outputs": [
    {
     "data": {
      "text/plain": [
       "52735868562895615861585658965623865235865283623856"
      ]
     },
     "execution_count": 29,
     "metadata": {},
     "output_type": "execute_result"
    }
   ],
   "source": [
    "x"
   ]
  },
  {
   "cell_type": "code",
   "execution_count": 30,
   "id": "be7ccf3b-305a-4042-a85e-8120fc8737ac",
   "metadata": {},
   "outputs": [
    {
     "data": {
      "text/plain": [
       "4294967296"
      ]
     },
     "execution_count": 30,
     "metadata": {},
     "output_type": "execute_result"
    }
   ],
   "source": [
    "2 ** 32"
   ]
  },
  {
   "cell_type": "code",
   "execution_count": 33,
   "id": "8f5d9257-9348-4cf6-9158-a27c7c6dfb60",
   "metadata": {},
   "outputs": [],
   "source": [
    "x = 0.0000000000000000000000000000000364883"
   ]
  },
  {
   "cell_type": "code",
   "execution_count": 34,
   "id": "995f17bd-3374-4276-a085-d785b96ae19b",
   "metadata": {},
   "outputs": [
    {
     "data": {
      "text/plain": [
       "3.64883e-32"
      ]
     },
     "execution_count": 34,
     "metadata": {},
     "output_type": "execute_result"
    }
   ],
   "source": [
    "x"
   ]
  },
  {
   "cell_type": "code",
   "execution_count": 35,
   "id": "4f9a4d50-422e-4eb8-9189-a56abf1457c5",
   "metadata": {},
   "outputs": [
    {
     "data": {
      "text/plain": [
       "0"
      ]
     },
     "execution_count": 35,
     "metadata": {},
     "output_type": "execute_result"
    }
   ],
   "source": [
    "round(x)"
   ]
  },
  {
   "cell_type": "code",
   "execution_count": 47,
   "id": "8ca09e2e-0a6e-4be5-8ebf-52f977538788",
   "metadata": {},
   "outputs": [
    {
     "ename": "OverflowError",
     "evalue": "(34, 'Numerical result out of range')",
     "output_type": "error",
     "traceback": [
      "\u001b[0;31m---------------------------------------------------------------------------\u001b[0m",
      "\u001b[0;31mOverflowError\u001b[0m                             Traceback (most recent call last)",
      "Cell \u001b[0;32mIn[47], line 2\u001b[0m\n\u001b[1;32m      1\u001b[0m \u001b[38;5;66;03m# Overflow\u001b[39;00m\n\u001b[0;32m----> 2\u001b[0m x \u001b[38;5;241m=\u001b[39m \u001b[38;5;241;43m23.12\u001b[39;49m\u001b[38;5;241;43m*\u001b[39;49m\u001b[38;5;241;43m*\u001b[39;49m\u001b[38;5;241;43m300\u001b[39;49m\n",
      "\u001b[0;31mOverflowError\u001b[0m: (34, 'Numerical result out of range')"
     ]
    }
   ],
   "source": [
    "# Overflow\n",
    "x = 23.12**300"
   ]
  },
  {
   "cell_type": "code",
   "execution_count": 48,
   "id": "2d64d393-7a28-40e8-850e-8fe7a305abed",
   "metadata": {},
   "outputs": [],
   "source": [
    "x = 4.5e300\n",
    "y = 2.4e100"
   ]
  },
  {
   "cell_type": "code",
   "execution_count": 49,
   "id": "246ac466-47b4-41e9-a91c-138c56ee96ad",
   "metadata": {},
   "outputs": [
    {
     "data": {
      "text/plain": [
       "inf"
      ]
     },
     "execution_count": 49,
     "metadata": {},
     "output_type": "execute_result"
    }
   ],
   "source": [
    "x * y"
   ]
  },
  {
   "cell_type": "code",
   "execution_count": 51,
   "id": "9b07854d-0ab4-4ae5-8f8d-4c6049726d22",
   "metadata": {},
   "outputs": [
    {
     "data": {
      "text/plain": [
       "0.0"
      ]
     },
     "execution_count": 51,
     "metadata": {},
     "output_type": "execute_result"
    }
   ],
   "source": [
    "# loss of significance\n",
    "1.0000000000000001 - 1.00000000000"
   ]
  },
  {
   "cell_type": "code",
   "execution_count": null,
   "id": "03d03948-486f-4942-a5e7-87f18dee50e5",
   "metadata": {},
   "outputs": [],
   "source": []
  }
 ],
 "metadata": {
  "kernelspec": {
   "display_name": "Python 3 (ipykernel)",
   "language": "python",
   "name": "python3"
  },
  "language_info": {
   "codemirror_mode": {
    "name": "ipython",
    "version": 3
   },
   "file_extension": ".py",
   "mimetype": "text/x-python",
   "name": "python",
   "nbconvert_exporter": "python",
   "pygments_lexer": "ipython3",
   "version": "3.10.12"
  }
 },
 "nbformat": 4,
 "nbformat_minor": 5
}
