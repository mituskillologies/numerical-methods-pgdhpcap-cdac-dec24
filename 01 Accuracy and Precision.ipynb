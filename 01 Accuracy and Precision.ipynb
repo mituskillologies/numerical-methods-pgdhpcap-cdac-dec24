{
 "cells": [
  {
   "cell_type": "code",
   "execution_count": 1,
   "id": "fad9aafe-cc73-46d2-a505-b5c626169454",
   "metadata": {},
   "outputs": [],
   "source": [
    "import numpy as np\n",
    "import matplotlib.pyplot as plt"
   ]
  },
  {
   "cell_type": "code",
   "execution_count": 2,
   "id": "e23d4de8-4f2c-4477-9e62-a0a394d81fec",
   "metadata": {},
   "outputs": [],
   "source": [
    "# True value / Target value\n",
    "true_value = 5.0"
   ]
  },
  {
   "cell_type": "code",
   "execution_count": 3,
   "id": "a33871a4-ba23-4c1b-b899-db77f55e74e0",
   "metadata": {},
   "outputs": [],
   "source": [
    "# Generate random measurements\n",
    "np.random.seed(42)"
   ]
  },
  {
   "cell_type": "code",
   "execution_count": 4,
   "id": "16d8a6ea-2581-473c-972c-73ec9a461dbb",
   "metadata": {},
   "outputs": [],
   "source": [
    "# Generate high precison data\n",
    "high_data = true_value + np.random.normal(0,0.1,100)"
   ]
  },
  {
   "cell_type": "code",
   "execution_count": 5,
   "id": "f3f91342-4a74-4580-bd29-32a50f4ccd3b",
   "metadata": {},
   "outputs": [
    {
     "data": {
      "text/plain": [
       "array([5.04967142, 4.98617357, 5.06476885, 5.15230299, 4.97658466,\n",
       "       4.9765863 , 5.15792128, 5.07674347, 4.95305256, 5.054256  ,\n",
       "       4.95365823, 4.95342702, 5.02419623, 4.80867198, 4.82750822,\n",
       "       4.94377125, 4.89871689, 5.03142473, 4.90919759, 4.85876963,\n",
       "       5.14656488, 4.97742237, 5.00675282, 4.85752518, 4.94556173,\n",
       "       5.01109226, 4.88490064, 5.0375698 , 4.93993613, 4.97083063,\n",
       "       4.93982934, 5.18522782, 4.99865028, 4.89422891, 5.08225449,\n",
       "       4.87791564, 5.02088636, 4.80403299, 4.8671814 , 5.01968612,\n",
       "       5.07384666, 5.01713683, 4.98843517, 4.96988963, 4.8521478 ,\n",
       "       4.92801558, 4.95393612, 5.10571222, 5.03436183, 4.82369598,\n",
       "       5.0324084 , 4.96149177, 4.9323078 , 5.06116763, 5.10309995,\n",
       "       5.09312801, 4.91607825, 4.96907876, 5.03312634, 5.09755451,\n",
       "       4.95208258, 4.9814341 , 4.8893665 , 4.88037934, 5.08125258,\n",
       "       5.135624  , 4.99279899, 5.10035329, 5.0361636 , 4.93548802,\n",
       "       5.03613956, 5.15380366, 4.9964174 , 5.15646437, 4.73802549,\n",
       "       5.08219025, 5.00870471, 4.97009926, 5.00917608, 4.80124311,\n",
       "       4.97803281, 5.03571126, 5.1477894 , 4.94817298, 4.91915064,\n",
       "       4.9498243 , 5.09154021, 5.03287511, 4.94702398, 5.05132674,\n",
       "       5.00970775, 5.0968645 , 4.92979469, 4.96723379, 4.96078918,\n",
       "       4.85364851, 5.02961203, 5.02610553, 5.00051135, 4.97654129])"
      ]
     },
     "execution_count": 5,
     "metadata": {},
     "output_type": "execute_result"
    }
   ],
   "source": [
    "high_data"
   ]
  },
  {
   "cell_type": "code",
   "execution_count": 6,
   "id": "15f171c0-501c-432b-9ab9-aea80d09599a",
   "metadata": {},
   "outputs": [],
   "source": [
    "# Generate low precison data\n",
    "low_data = true_value + np.random.normal(0,1.0,100)"
   ]
  },
  {
   "cell_type": "code",
   "execution_count": 7,
   "id": "7ff42085-7035-4879-bfc7-f135e465ccc5",
   "metadata": {},
   "outputs": [
    {
     "data": {
      "text/plain": [
       "array([3.58462926, 4.57935468, 4.65728548, 4.19772273, 4.83871429,\n",
       "       5.40405086, 6.8861859 , 5.17457781, 5.25755039, 4.92555408,\n",
       "       3.08122878, 4.97348612, 5.06023021, 7.46324211, 4.80763904,\n",
       "       5.30154734, 4.96528823, 3.83132196, 6.14282281, 5.75193303,\n",
       "       5.79103195, 4.09061255, 6.40279431, 3.59814894, 5.58685709,\n",
       "       7.19045563, 4.00946367, 4.43370227, 5.09965137, 4.49652435,\n",
       "       3.44933657, 5.06856297, 3.93769629, 5.47359243, 4.08057577,\n",
       "       6.54993441, 4.21674671, 4.67793848, 5.81351722, 3.76913568,\n",
       "       5.22745993, 6.30714275, 3.39251677, 5.18463386, 5.25988279,\n",
       "       5.78182287, 3.76304929, 3.67954339, 5.52194157, 5.29698467,\n",
       "       5.25049285, 5.34644821, 4.31997528, 5.2322537 , 5.29307247,\n",
       "       4.28564858, 6.86577451, 5.47383292, 3.8086965 , 5.65655361,\n",
       "       4.02531833, 5.7870846 , 6.15859558, 4.17931768, 5.96337613,\n",
       "       5.41278093, 5.82206016, 6.89679298, 4.75461188, 4.24626384,\n",
       "       4.11048557, 4.18418972, 4.92289829, 5.34115197, 5.2766908 ,\n",
       "       5.82718325, 5.01300189, 6.45353408, 4.73534317, 7.72016917,\n",
       "       5.62566735, 4.14284244, 3.9291075 , 5.48247242, 4.77653721,\n",
       "       5.71400049, 5.47323762, 4.92717109, 4.15320628, 3.48515278,\n",
       "       4.55348505, 5.85639879, 5.21409374, 3.75426122, 5.17318093,\n",
       "       5.38531738, 4.11614256, 5.15372511, 5.05820872, 3.8570297 ])"
      ]
     },
     "execution_count": 7,
     "metadata": {},
     "output_type": "execute_result"
    }
   ],
   "source": [
    "low_data"
   ]
  },
  {
   "cell_type": "markdown",
   "id": "f29feb28-88ed-43df-a2f2-3f148ff563cb",
   "metadata": {},
   "source": [
    "##### Calculate accuracy and precison of data"
   ]
  },
  {
   "cell_type": "code",
   "execution_count": 13,
   "id": "15f29ca8-6b4b-4f11-a28c-57f4e71ca996",
   "metadata": {},
   "outputs": [],
   "source": [
    "accuracy_high = 1 - abs(np.mean(high_data) - true_value)"
   ]
  },
  {
   "cell_type": "code",
   "execution_count": 14,
   "id": "7477dd7e-0105-412c-a7a4-fc60b134fd9e",
   "metadata": {},
   "outputs": [
    {
     "data": {
      "text/plain": [
       "0.9896153482605907"
      ]
     },
     "execution_count": 14,
     "metadata": {},
     "output_type": "execute_result"
    }
   ],
   "source": [
    "accuracy_high"
   ]
  },
  {
   "cell_type": "code",
   "execution_count": 15,
   "id": "15c5dd18-0848-4eb6-a724-641774d5ae36",
   "metadata": {},
   "outputs": [
    {
     "data": {
      "text/plain": [
       "0.9776954129500766"
      ]
     },
     "execution_count": 15,
     "metadata": {},
     "output_type": "execute_result"
    }
   ],
   "source": [
    "accuracy_low = 1 - abs(np.mean(low_data) - true_value)\n",
    "accuracy_low"
   ]
  },
  {
   "cell_type": "code",
   "execution_count": 16,
   "id": "088b5b5d-238b-49b9-be37-cfcf14529a5b",
   "metadata": {},
   "outputs": [
    {
     "data": {
      "text/plain": [
       "0.09036161766446295"
      ]
     },
     "execution_count": 16,
     "metadata": {},
     "output_type": "execute_result"
    }
   ],
   "source": [
    "precision_high = np.std(high_data)\n",
    "precision_high"
   ]
  },
  {
   "cell_type": "code",
   "execution_count": 19,
   "id": "9dea5806-524b-4091-b0b9-64c97a8827f0",
   "metadata": {},
   "outputs": [
    {
     "data": {
      "text/plain": [
       "0.9488886405106461"
      ]
     },
     "execution_count": 19,
     "metadata": {},
     "output_type": "execute_result"
    }
   ],
   "source": [
    "precision_low = np.std(low_data)\n",
    "precision_low"
   ]
  },
  {
   "cell_type": "code",
   "execution_count": null,
   "id": "04995015-2863-41ed-b359-c3c3a7ceb511",
   "metadata": {},
   "outputs": [],
   "source": []
  }
 ],
 "metadata": {
  "kernelspec": {
   "display_name": "Python 3 (ipykernel)",
   "language": "python",
   "name": "python3"
  },
  "language_info": {
   "codemirror_mode": {
    "name": "ipython",
    "version": 3
   },
   "file_extension": ".py",
   "mimetype": "text/x-python",
   "name": "python",
   "nbconvert_exporter": "python",
   "pygments_lexer": "ipython3",
   "version": "3.10.12"
  }
 },
 "nbformat": 4,
 "nbformat_minor": 5
}
