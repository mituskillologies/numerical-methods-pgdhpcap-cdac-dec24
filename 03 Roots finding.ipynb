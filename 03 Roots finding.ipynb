{
 "cells": [
  {
   "cell_type": "markdown",
   "id": "fd411e5b-3dae-4165-9c61-78e81bf79af6",
   "metadata": {},
   "source": [
    "##### Bisection Method"
   ]
  },
  {
   "cell_type": "code",
   "execution_count": 34,
   "id": "5484ac4a-cff6-40f8-98b2-badda2f0c7b2",
   "metadata": {},
   "outputs": [],
   "source": [
    "def bisection_method(f, a, b, tol=1e-8, max_iter=100):\n",
    "    if f(a) * f(b) >= 0:\n",
    "        print('Function doesnt change sign over interval.')\n",
    "        return None\n",
    "\n",
    "    iteration = 0\n",
    "    while (b - a) / 2 > tol:\n",
    "        # Find the midpoint\n",
    "        c = (a + b) / 2\n",
    "        # check the midpoint is root\n",
    "        if f(c) == 0:\n",
    "            return c\n",
    "        elif f(a) * f(c) < 0:\n",
    "            b = c\n",
    "        else:\n",
    "            a = c\n",
    "\n",
    "        iteration += 1\n",
    "        if iteration > max_iter:\n",
    "            print('Maximum iterations reached')\n",
    "            return None\n",
    "\n",
    "    return (a + b) / 2"
   ]
  },
  {
   "cell_type": "code",
   "execution_count": 35,
   "id": "7275dffe-2fdf-494a-9a81-b679061f9cb0",
   "metadata": {},
   "outputs": [],
   "source": [
    "def example_function(x):\n",
    "    return x ** 2 + 7"
   ]
  },
  {
   "cell_type": "code",
   "execution_count": 36,
   "id": "b4f831dc-6c29-4045-b6be-84ec268fa40f",
   "metadata": {},
   "outputs": [],
   "source": [
    "# define the value of a and b\n",
    "a = 1\n",
    "b = 10"
   ]
  },
  {
   "cell_type": "code",
   "execution_count": 37,
   "id": "9c9625e1-0e6e-4b44-976e-cb9572d9097c",
   "metadata": {},
   "outputs": [
    {
     "name": "stdout",
     "output_type": "stream",
     "text": [
      "Function doesnt change sign over interval.\n"
     ]
    }
   ],
   "source": [
    "# call the bisection method\n",
    "root = bisection_method(example_function, a, b)"
   ]
  },
  {
   "cell_type": "code",
   "execution_count": 31,
   "id": "53b13725-ecff-41b5-96eb-b0c28bd03464",
   "metadata": {},
   "outputs": [
    {
     "name": "stdout",
     "output_type": "stream",
     "text": [
      "Root of equation is: 2.645751307718456\n"
     ]
    }
   ],
   "source": [
    "# Print the root\n",
    "print('Root of equation is:', root)"
   ]
  },
  {
   "cell_type": "code",
   "execution_count": 33,
   "id": "171759ee-38aa-4a50-b456-5b20aa070902",
   "metadata": {},
   "outputs": [
    {
     "ename": "ValueError",
     "evalue": "math domain error",
     "output_type": "error",
     "traceback": [
      "\u001b[0;31m---------------------------------------------------------------------------\u001b[0m",
      "\u001b[0;31mValueError\u001b[0m                                Traceback (most recent call last)",
      "Cell \u001b[0;32mIn[33], line 2\u001b[0m\n\u001b[1;32m      1\u001b[0m \u001b[38;5;28;01mimport\u001b[39;00m \u001b[38;5;21;01mmath\u001b[39;00m\n\u001b[0;32m----> 2\u001b[0m \u001b[43mmath\u001b[49m\u001b[38;5;241;43m.\u001b[39;49m\u001b[43msqrt\u001b[49m\u001b[43m(\u001b[49m\u001b[38;5;241;43m-\u001b[39;49m\u001b[38;5;241;43m7\u001b[39;49m\u001b[43m)\u001b[49m\n",
      "\u001b[0;31mValueError\u001b[0m: math domain error"
     ]
    }
   ],
   "source": [
    "import math\n",
    "math.sqrt(-7)"
   ]
  },
  {
   "cell_type": "markdown",
   "id": "9122f992-010a-42b5-9415-4181d7975423",
   "metadata": {},
   "source": [
    "##### Newton - Raphson Method"
   ]
  },
  {
   "cell_type": "code",
   "execution_count": 39,
   "id": "3d206544-b936-4d43-9e00-e1faa5431803",
   "metadata": {},
   "outputs": [],
   "source": [
    "def newton_raphson(f, df, x0, tol=1e-6, max_iter=100):\n",
    "    # f -> function to find the root\n",
    "    # df -> derivatives of function f\n",
    "    # x0 -> initial guess\n",
    "    # tol -> tolerance \n",
    "    # max_iter -> maximum number of iterations\n",
    "    x = x0\n",
    "    for i in range(max_iter):\n",
    "        fx = f(x)\n",
    "        dfx = df(x)\n",
    "        if dfx == 0:\n",
    "            print('Derivative is Zero!')\n",
    "            return None\n",
    "\n",
    "        # compute the next approximation\n",
    "        x_new = x - fx / dfx\n",
    "\n",
    "        # Check the convergence\n",
    "        if abs(x_new - x) < tol:\n",
    "            return x_new\n",
    "\n",
    "        x = x_new\n",
    "\n",
    "    print('Maximum iterations reached!')\n",
    "    return None"
   ]
  },
  {
   "cell_type": "code",
   "execution_count": 68,
   "id": "494a5992-151c-4c95-97cf-01ef6f938634",
   "metadata": {},
   "outputs": [],
   "source": [
    "# Function to find the root\n",
    "def example_function(x):\n",
    "    return x ** 2 - 25"
   ]
  },
  {
   "cell_type": "code",
   "execution_count": 69,
   "id": "2363ad21-4677-459b-b1a6-61da6c734951",
   "metadata": {},
   "outputs": [],
   "source": [
    "# Define Derivative function\n",
    "def derivative_function(x):\n",
    "    return 2 * x"
   ]
  },
  {
   "cell_type": "code",
   "execution_count": 70,
   "id": "4816ddc7-2b1a-4d50-856b-9eea416cbdeb",
   "metadata": {},
   "outputs": [],
   "source": [
    "# define initial guess\n",
    "x0 = 1.0"
   ]
  },
  {
   "cell_type": "code",
   "execution_count": 71,
   "id": "416e3d78-b25a-4bf2-9f1e-7fe7a87af5b8",
   "metadata": {},
   "outputs": [],
   "source": [
    "# call the function\n",
    "root = newton_raphson(example_function, derivative_function, x0)"
   ]
  },
  {
   "cell_type": "code",
   "execution_count": 72,
   "id": "ad501de0-e462-4d8e-b393-a8badeb2eb73",
   "metadata": {},
   "outputs": [
    {
     "name": "stdout",
     "output_type": "stream",
     "text": [
      "The root is: 5.0\n"
     ]
    }
   ],
   "source": [
    "print('The root is:', root)"
   ]
  },
  {
   "cell_type": "markdown",
   "id": "b80d5bb1-f88b-4a58-9060-575993e72b4f",
   "metadata": {},
   "source": [
    "##### Secant Method"
   ]
  },
  {
   "cell_type": "code",
   "execution_count": 80,
   "id": "503d8cd4-59d2-4261-84b0-8656770a9628",
   "metadata": {},
   "outputs": [],
   "source": [
    "def secant_method(f, x0, x1, tol=1e-15, max_iter=100):\n",
    "    # f -> function to find the root\n",
    "    # x0, x1 -> initial guesses\n",
    "    # tol -> tolerance \n",
    "    # max_iter -> maximum number of iterations\n",
    "    for i in range(max_iter):\n",
    "        fx0 = f(x0)\n",
    "        fx1 = f(x1)\n",
    "\n",
    "        # avoid the zero-division error\n",
    "        if fx1 - fx0 == 0:\n",
    "            print('Zero Division is reported!')\n",
    "            return None\n",
    "        # calculate next approximation\n",
    "        x2 = x1 - fx1 * (x1 - x0) / (fx1 - fx0)\n",
    "\n",
    "        # Check the convergence\n",
    "        if abs(x2 - x1) < tol:\n",
    "            return x2\n",
    "\n",
    "        x0, x1 = x1, x2\n",
    "\n",
    "    print('Maximum iterations reached!')\n",
    "    return None"
   ]
  },
  {
   "cell_type": "code",
   "execution_count": 81,
   "id": "b683bb9f-82e9-4762-b828-de594cd81521",
   "metadata": {},
   "outputs": [],
   "source": [
    "# define the initial values\n",
    "x0 = 1\n",
    "x1 = 3"
   ]
  },
  {
   "cell_type": "code",
   "execution_count": 85,
   "id": "fe1e32ca-6bec-4b6a-9430-3c69d5260d75",
   "metadata": {},
   "outputs": [],
   "source": [
    "# Function to find the root\n",
    "def example_function(x):\n",
    "    return x ** 2 - 20"
   ]
  },
  {
   "cell_type": "code",
   "execution_count": 86,
   "id": "9281d11f-739f-4228-9ed0-947c40be6bae",
   "metadata": {},
   "outputs": [],
   "source": [
    "# call the function\n",
    "root = secant_method(example_function, x0, x1)"
   ]
  },
  {
   "cell_type": "code",
   "execution_count": 87,
   "id": "bb7e513c-0de1-476f-92bd-d67d0b77e9cd",
   "metadata": {},
   "outputs": [
    {
     "name": "stdout",
     "output_type": "stream",
     "text": [
      "The root is: 4.47213595499958\n"
     ]
    }
   ],
   "source": [
    "print('The root is:', root)"
   ]
  },
  {
   "cell_type": "markdown",
   "id": "5d03b673-96da-452b-879f-694369411cb2",
   "metadata": {},
   "source": [
    "##### Roots of Polynomial Equation"
   ]
  },
  {
   "cell_type": "code",
   "execution_count": 89,
   "id": "57094f70-87af-4566-ac3e-6c36d9f85eb1",
   "metadata": {},
   "outputs": [],
   "source": [
    "import numpy as np"
   ]
  },
  {
   "cell_type": "code",
   "execution_count": 90,
   "id": "1cb451f6-9774-4a62-a187-adfe025b3e8e",
   "metadata": {},
   "outputs": [],
   "source": [
    "# Define the coefficients (in descending order of degrees)\n",
    "coeff = [1, -5, 6]"
   ]
  },
  {
   "cell_type": "code",
   "execution_count": 91,
   "id": "3138c2f4-9f9e-4b3c-be65-53e65c335ec7",
   "metadata": {},
   "outputs": [],
   "source": [
    "roots = np.roots(coeff)"
   ]
  },
  {
   "cell_type": "code",
   "execution_count": 92,
   "id": "9f9819e8-e47d-4642-b439-36f59f08b76b",
   "metadata": {},
   "outputs": [
    {
     "name": "stdout",
     "output_type": "stream",
     "text": [
      "Roots are:  [3. 2.]\n"
     ]
    }
   ],
   "source": [
    "print('Roots are: ', roots)"
   ]
  },
  {
   "cell_type": "markdown",
   "id": "f832ec3f-0fc5-4bec-b53c-2950243a7be6",
   "metadata": {},
   "source": [
    "##### Muller's Method"
   ]
  },
  {
   "cell_type": "code",
   "execution_count": null,
   "id": "175385d3-6373-4557-8a0e-f1d99446b76b",
   "metadata": {},
   "outputs": [],
   "source": [
    "def muller_method(f, x0, x1, x2, tol=1e-15, max_iter=100):\n",
    "    for i in range(max_iter):\n",
    "        f0, f1, f2 = f(x0), f(x1), f(x2)\n",
    "\n",
    "        # compute the denominatots of quadratic equation formula\n",
    "        h0 = x1 - x0\n",
    "        h1 = x2 - x1\n",
    "        delta0 = (f1 - f0) / h0\n",
    "        delta1 = (f2 - f1) / h1\n",
    "\n",
    "        # compute the coefficients of the quadratic polynomial\n",
    "        d = (delta1 - delta0) / (h1 + h0)\n",
    "        a = d\n",
    "        b = delta1 + h1 * a\n",
    "        c = f2\n",
    "        "
   ]
  }
 ],
 "metadata": {
  "kernelspec": {
   "display_name": "Python 3 (ipykernel)",
   "language": "python",
   "name": "python3"
  },
  "language_info": {
   "codemirror_mode": {
    "name": "ipython",
    "version": 3
   },
   "file_extension": ".py",
   "mimetype": "text/x-python",
   "name": "python",
   "nbconvert_exporter": "python",
   "pygments_lexer": "ipython3",
   "version": "3.10.12"
  }
 },
 "nbformat": 4,
 "nbformat_minor": 5
}
